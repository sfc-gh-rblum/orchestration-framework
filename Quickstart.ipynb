{
<<<<<<< HEAD
   "cells": [
      {
         "cell_type": "markdown",
         "metadata": {},
         "source": [
            "# Agent Gateway Quickstart"
         ]
      },
      {
         "cell_type": "markdown",
         "metadata": {},
         "source": [
            "Agent Gateway is a multi-agent framework that offers native support for Snowflake tools. \n",
            "\n",
            "The system can be configured to work with 3 types of tools:\n",
            "- Cortex Search Tool: For unstructured data analysis, which requires a standard RAG access pattern.\n",
            "- Cortex Analyst Tool: For supporting structured data analysis, which requires a Text2SQL access pattern.\n",
            "- Python Tool: For supporting custom user operations (using 3rd Party API's), which requires calling arbitrary python.\n",
            "\n",
            "This notebook walks through how to configure and run a system with all 3 types of tools. The demo is designed to illustrate how the agent can answer questions that require a divserse combination of tools (RAG,Text2SQL, Python, or a combination).\n",
            "\n",
            "Note that Agent Gateway does not configure the underlying Cortex Search or Cortex Analyst services for the user. Those services must be configured before initializing the agent."
         ]
      },
      {
         "cell_type": "markdown",
         "metadata": {},
         "source": [
            "# Agent Configuration"
         ]
      },
      {
         "cell_type": "markdown",
         "metadata": {},
         "source": [
            "## Connection Setup"
         ]
      },
      {
         "cell_type": "markdown",
         "metadata": {},
         "source": [
            "Authenticate with Snowpark + set token as environment variable for use by the agents."
         ]
      },
      {
         "cell_type": "code",
         "execution_count": 2,
         "metadata": {},
         "outputs": [],
         "source": [
            "from agent_gateway import Agent\n",
            "from agent_gateway.tools import CortexSearchTool, CortexAnalystTool, PythonTool\n",
            "from snowflake.snowpark import Session\n",
            "import os\n",
            "\n",
            "connection_parameters = {\n",
            "    \"account\": os.getenv(\"SNOWFLAKE_ACCOUNT\"),\n",
            "    \"user\": os.getenv(\"SNOWFLAKE_USER\"),\n",
            "    \"password\": os.getenv(\"SNOWFLAKE_PASSWORD\"),\n",
            "    \"role\": os.getenv(\"SNOWFLAKE_ROLE\"),\n",
            "    \"warehouse\": os.getenv(\"SNOWFLAKE_WAREHOUSE\"),\n",
            "    \"database\": os.getenv(\"SNOWFLAKE_DATABASE\"),\n",
            "    \"schema\": os.getenv(\"SNOWFLAKE_SCHEMA\"),\n",
            "}\n",
            "\n",
            "snowpark = Session.builder.configs(connection_parameters).create()"
         ]
      },
      {
         "cell_type": "markdown",
         "metadata": {},
         "source": [
            "## Snowflake Tool Configuration"
         ]
      },
      {
         "cell_type": "markdown",
         "metadata": {},
         "source": [
            "The Cortex Search Tool and the Cortex Analyst Tool need to be configured as follows. Note that a connection object is required for each config. In the case below we're using the same connection object for both because the services are both in the same account/database/schema. Users have the option to pass in different connection objects as needed."
         ]
      },
      {
         "cell_type": "code",
         "execution_count": 3,
         "metadata": {},
         "outputs": [],
         "source": [
            "search_config = {\n",
            "    \"service_name\": \"SEC_SEARCH_SERVICE\",\n",
            "    \"service_topic\": \"Snowflake's business,product offerings,and performance.\",\n",
            "    \"data_description\": \"Snowflake annual reports\",\n",
            "    \"retrieval_columns\": [\"CHUNK\", \"RELATIVE_PATH\"],\n",
            "    \"snowflake_connection\": snowpark,\n",
            "    \"k\": 10,\n",
            "}\n",
            "\n",
            "analyst_config = {\n",
            "    \"semantic_model\": \"sp500_semantic_model.yaml\",\n",
            "    \"stage\": \"ANALYST\",\n",
            "    \"service_topic\": \"S&P500 company and stock metrics\",\n",
            "    \"data_description\": \"a table with stock and financial metrics about S&P500 companies \",\n",
            "    \"snowflake_connection\": snowpark,\n",
            "}"
         ]
      },
      {
         "cell_type": "markdown",
         "metadata": {},
         "source": [
            "## Python Tool Configuration"
         ]
      },
      {
         "cell_type": "markdown",
         "metadata": {},
         "source": [
            "Configuring a Python Tool for the Agent Gateway requires 1) Python Callable 2) Tool Description (what does the tool do) 3) Output Description (what does the tool output). \n",
            "\n",
            "In the example below we create a NewsTool object that submits a HTTP request to a 3rd Party News API. The python callable is passed into the Python Tool as `news_api_func`.To use the tool below get your free token by signing up for an account at thenewsapi.com or just create your own python function and pass it into the PythonTool."
         ]
      },
      {
         "cell_type": "code",
         "execution_count": 3,
         "metadata": {},
         "outputs": [],
         "source": [
            "import requests\n",
            "\n",
            "\n",
            "def html_crawl(url):\n",
            "    response = requests.get(url)\n",
            "    return response.text\n",
            "\n",
            "\n",
            "python_crawler_config = {\n",
            "    \"tool_description\": \"reads the html from a given URL or website\",\n",
            "    \"output_description\": \"html of a webpage\",\n",
            "    \"python_func\": html_crawl,\n",
            "}"
         ]
      },
      {
         "cell_type": "markdown",
         "metadata": {},
         "source": [
            "## Agent Config"
         ]
      },
      {
         "cell_type": "markdown",
         "metadata": {},
         "source": [
            "After the tools have been configured, initialize them and configure the agent."
         ]
      },
      {
         "cell_type": "code",
         "execution_count": 4,
         "metadata": {},
         "outputs": [
            {
               "name": "stdout",
               "output_type": "stream",
               "text": [
                  "INFO:AgentGatewayLogger:Cortex Search Tool successfully initialized\n",
                  "INFO:AgentGatewayLogger:Cortex Analyst Tool successfully initialized\n",
                  "INFO:AgentGatewayLogger:Python Tool successfully initialized\n",
                  "INFO:AgentGatewayLogger:Cortex gateway successfully initialized\n"
               ]
            }
         ],
         "source": [
            "annual_reports = CortexSearchTool(**search_config)\n",
            "sp500 = CortexAnalystTool(**analyst_config)\n",
            "web_crawler = PythonTool(**python_crawler_config)\n",
            "\n",
            "snowflake_tools = [annual_reports, sp500, web_crawler]\n",
            "agent = Agent(snowflake_connection=snowpark, tools=snowflake_tools, max_retries=3)"
         ]
      },
      {
         "cell_type": "markdown",
         "metadata": {},
         "source": [
            "# Agent Testing"
         ]
      },
      {
         "cell_type": "markdown",
         "metadata": {},
         "source": [
            "The 3 types of questions below are designed to showcase the breadth of tool use patterns possible with the Agent Gateway. \n",
            "\n",
            "- The Structured Data Questions use the Cortex Analyst agent. \n",
            "- The Unstructured Data Questions use either the Cortex Search agent or the Python (News API) agent.\n",
            "- The last section includes a question that requires the use of both types of tools."
         ]
      },
      {
         "cell_type": "markdown",
         "metadata": {},
         "source": [
            "## Structured Data Questions"
         ]
      },
      {
         "cell_type": "code",
         "execution_count": 5,
         "metadata": {},
         "outputs": [
            {
               "name": "stdout",
               "output_type": "stream",
               "text": [
                  "INFO:AgentGatewayLogger:running sp500_semantic_model_cortexanalyst task\n"
               ]
            },
            {
               "data": {
                  "text/plain": [
                     "'The market cap of Apple is $3,019,131,060,224 or approximately $3.02 trillion.'"
                  ]
               },
               "execution_count": 5,
               "metadata": {},
               "output_type": "execute_result"
            }
         ],
         "source": [
            "agent(\"What is the market cap of Apple?\")"
         ]
      },
      {
         "cell_type": "code",
         "execution_count": 6,
         "metadata": {},
         "outputs": [
            {
               "name": "stdout",
               "output_type": "stream",
               "text": [
                  "INFO:AgentGatewayLogger:running sp500_semantic_model_cortexanalyst task\n",
                  "INFO:AgentGatewayLogger:running sp500_semantic_model_cortexanalyst task\n"
               ]
            },
            {
               "data": {
                  "text/plain": [
                     "\"Apple has the bigger EBITDA with $129,629,003,776 compared to Microsoft's $125,981,999,104.\""
                  ]
               },
               "execution_count": 6,
               "metadata": {},
               "output_type": "execute_result"
            }
         ],
         "source": [
            "agent(\"Which company has the bigger EBITDA, Apple or MSFT?\")"
         ]
      },
      {
         "cell_type": "markdown",
         "metadata": {},
         "source": [
            "# Unstructured Data Questions"
         ]
      },
      {
         "cell_type": "code",
         "execution_count": 7,
         "metadata": {},
         "outputs": [
            {
               "name": "stdout",
               "output_type": "stream",
               "text": [
                  "INFO:AgentGatewayLogger:running sec_search_service_cortexsearch task\n"
               ]
            },
            {
               "data": {
                  "text/plain": [
                     "{'output': 'As of January 31, 2024, Snowflake had 9,437 total customers.',\n",
                     " 'sources': ['RELATIVE_PATH: 2024_10k_snowflake.pdf',\n",
                     "  'RELATIVE_PATH: 2021_10k_snowflake.pdf',\n",
                     "  'RELATIVE_PATH: 2023_10k_snowflake.pdf',\n",
                     "  'RELATIVE_PATH: 2022_10k_snowflake.pdf']}"
                  ]
               },
               "execution_count": 7,
               "metadata": {},
               "output_type": "execute_result"
            }
         ],
         "source": [
            "agent(\"How many customers does Snowflake have?\")"
         ]
      },
      {
         "cell_type": "code",
         "execution_count": 8,
         "metadata": {},
         "outputs": [
            {
               "name": "stdout",
               "output_type": "stream",
               "text": [
                  "INFO:AgentGatewayLogger:running html_crawl task\n"
               ]
            },
            {
               "data": {
                  "text/plain": [
                     "{'output': 'Snowflake can be hosted on the following cloud platforms: Amazon Web Services (AWS), Google Cloud Platform (GCP), and Microsoft Azure (Azure).',\n",
                     " 'sources': ['html_crawl tool']}"
                  ]
               },
               "execution_count": 8,
               "metadata": {},
               "output_type": "execute_result"
            }
         ],
         "source": [
            "agent(\n",
            "    \"On which platforms can I host Snowflake according to this documentation page https://docs.snowflake.com/en/user-guide/intro-cloud-platforms\"\n",
            ")"
         ]
      },
      {
         "cell_type": "markdown",
         "metadata": {},
         "source": [
            "## Unstructured + Structured Data Questions"
         ]
      },
      {
         "cell_type": "code",
         "execution_count": 9,
         "metadata": {},
         "outputs": [
            {
               "name": "stdout",
               "output_type": "stream",
               "text": [
                  "INFO:AgentGatewayLogger:running sec_search_service_cortexsearch task\n",
                  "INFO:AgentGatewayLogger:running summarize task\n",
                  "INFO:AgentGatewayLogger:running sp500_semantic_model_cortexanalyst task\n",
                  "ERROR:AgentGatewayLogger:Your request is unclear. Consider rephrasing your request to one of the following suggestions:['What is the market cap of Amazon.com, Inc.?', 'What is the market cap of Microsoft Corporation?', 'What is the market cap of Alphabet Inc.?']\n",
                  "ERROR:AgentGatewayLogger:{'content': [{'text': 'I apologize, but the question is unclear because it '\n",
                  "                      'asks for the market cap of Amazon Web Services (AWS), '\n",
                  "                      'Microsoft Azure, and Google Cloud Platform (GCP), which '\n",
                  "                      'are specific business units or services within larger '\n",
                  "                      'companies (Amazon, Microsoft, and Alphabet '\n",
                  "                      'respectively). The semantic model provided does not '\n",
                  "                      'have a direct way to filter or identify these specific '\n",
                  "                      'business units or services.',\n",
                  "              'type': 'text'},\n",
                  "             {'suggestions': ['What is the market cap of Amazon.com, Inc.?',\n",
                  "                              'What is the market cap of Microsoft '\n",
                  "                              'Corporation?',\n",
                  "                              'What is the market cap of Alphabet Inc.?'],\n",
                  "              'type': 'suggestions'}],\n",
                  " 'role': 'analyst'}\n",
                  "INFO:AgentGatewayLogger:running sp500_semantic_model_cortexanalyst task\n",
                  "INFO:AgentGatewayLogger:running sp500_semantic_model_cortexanalyst task\n",
                  "INFO:AgentGatewayLogger:running sp500_semantic_model_cortexanalyst task\n",
                  "ERROR:AgentGatewayLogger:Rate limit exceeded\n",
                  "INFO:AgentGatewayLogger:running sp500_semantic_model_cortexanalyst task\n"
               ]
            },
            {
               "data": {
                  "text/plain": [
                     "'The market cap of Amazon.com, Inc. is $1,917,936,336,896, the market cap of Microsoft Corporation is $3,150,184,448,000, and the market cap of Alphabet Inc. is $2,164,350,779,392.'"
                  ]
               },
               "execution_count": 9,
               "metadata": {},
               "output_type": "execute_result"
            }
         ],
         "source": [
            "agent(\n",
            "    \"What is the market cap of the cloud providers mentioned in Snowflake's 2024 annual report?\"\n",
            ")"
         ]
      }
   ],
   "metadata": {
      "kernelspec": {
         "display_name": ".venv",
         "language": "python",
         "name": "python3"
      },
      "language_info": {
         "codemirror_mode": {
            "name": "ipython",
            "version": 3
         },
         "file_extension": ".py",
         "mimetype": "text/x-python",
         "name": "python",
         "nbconvert_exporter": "python",
         "pygments_lexer": "ipython3",
         "version": "3.11.6"
      }
=======
 "cells": [
  {
   "cell_type": "markdown",
   "metadata": {},
   "source": [
    "# Agent Gateway Quickstart"
   ]
  },
  {
   "cell_type": "markdown",
   "metadata": {},
   "source": [
    "Agent Gateway is a multi-agent framework that offers native support for Snowflake tools. \n",
    "\n",
    "The system can be configured to work with 3 types of tools:\n",
    "- Cortex Search Tool: For unstructured data analysis, which requires a standard RAG access pattern.\n",
    "- Cortex Analyst Tool: For supporting structured data analysis, which requires a Text2SQL access pattern.\n",
    "- Python Tool: For supporting custom user operations (using 3rd Party API's), which requires calling arbitrary python.\n",
    "\n",
    "This notebook walks through how to configure and run a system with all 3 types of tools. The demo is designed to illustrate how the agent can answer questions that require a divserse combination of tools (RAG,Text2SQL, Python, or a combination).\n",
    "\n",
    "Note that Agent Gateway does not configure the underlying Cortex Search or Cortex Analyst services for the user. Those services must be configured before initializing the agent."
   ]
  },
  {
   "cell_type": "markdown",
   "metadata": {},
   "source": [
    "# Agent Configuration"
   ]
  },
  {
   "cell_type": "markdown",
   "metadata": {},
   "source": [
    "## Connection Setup"
   ]
  },
  {
   "cell_type": "markdown",
   "metadata": {},
   "source": [
    "Authenticate with Snowpark + set token as environment variable for use by the agents."
   ]
  },
  {
   "cell_type": "code",
   "execution_count": 1,
   "metadata": {},
   "outputs": [],
   "source": [
    "from agent_gateway import Agent\n",
    "from agent_gateway.tools import CortexSearchTool, CortexAnalystTool, PythonTool\n",
    "from snowflake.snowpark import Session\n",
    "import os\n",
    "\n",
    "connection_parameters = {\n",
    "    \"account\": os.getenv(\"SNOWFLAKE_ACCOUNT\"),\n",
    "    \"user\": os.getenv(\"SNOWFLAKE_USER\"),\n",
    "    \"password\": os.getenv(\"SNOWFLAKE_PASSWORD\"),\n",
    "    \"role\": os.getenv(\"SNOWFLAKE_ROLE\"),\n",
    "    \"warehouse\": os.getenv(\"SNOWFLAKE_WAREHOUSE\"),\n",
    "    \"database\": os.getenv(\"SNOWFLAKE_DATABASE\"),\n",
    "    \"schema\": os.getenv(\"SNOWFLAKE_SCHEMA\"),\n",
    "}\n",
    "\n",
    "snowpark = Session.builder.configs(connection_parameters).create()"
   ]
  },
  {
   "cell_type": "markdown",
   "metadata": {},
   "source": [
    "## Snowflake Tool Configuration"
   ]
  },
  {
   "cell_type": "markdown",
   "metadata": {},
   "source": [
    "The Cortex Search Tool and the Cortex Analyst Tool need to be configured as follows. Note that a connection object is required for each config. In the case below we're using the same connection object for both because the services are both in the same account/database/schema. Users have the option to pass in different connection objects as needed."
   ]
  },
  {
   "cell_type": "code",
   "execution_count": 2,
   "metadata": {},
   "outputs": [],
   "source": [
    "search_config = {\n",
    "    \"service_name\": \"SEC_SEARCH_SERVICE\",\n",
    "    \"service_topic\": \"Snowflake's business,product offerings,and performance.\",\n",
    "    \"data_description\": \"Snowflake annual reports\",\n",
    "    \"retrieval_columns\": [\"CHUNK\", \"RELATIVE_PATH\"],\n",
    "    \"snowflake_connection\": snowpark,\n",
    "    \"k\": 10,\n",
    "}\n",
    "\n",
    "analyst_config = {\n",
    "    \"semantic_model\": \"sp500_semantic_model.yaml\",\n",
    "    \"stage\": \"ANALYST\",\n",
    "    \"service_topic\": \"S&P500 company and stock metrics\",\n",
    "    \"data_description\": \"a table with stock and financial metrics about S&P500 companies \",\n",
    "    \"snowflake_connection\": snowpark,\n",
    "}"
   ]
  },
  {
   "cell_type": "markdown",
   "metadata": {},
   "source": [
    "## Python Tool Configuration"
   ]
  },
  {
   "cell_type": "markdown",
   "metadata": {},
   "source": [
    "Configuring a Python Tool for the Agent Gateway requires 1) Python Callable 2) Tool Description (what does the tool do) 3) Output Description (what does the tool output). \n",
    "\n",
    "In the example below we create a NewsTool object that submits a HTTP request to a 3rd Party News API. The python callable is passed into the Python Tool as `news_api_func`.To use the tool below get your free token by signing up for an account at thenewsapi.com or just create your own python function and pass it into the PythonTool."
   ]
  },
  {
   "cell_type": "code",
   "execution_count": 3,
   "metadata": {},
   "outputs": [],
   "source": [
    "import requests\n",
    "\n",
    "\n",
    "def html_crawl(url):\n",
    "    response = requests.get(url)\n",
    "    return response.text\n",
    "\n",
    "\n",
    "python_crawler_config = {\n",
    "    \"tool_description\": \"reads the html from a given URL or website\",\n",
    "    \"output_description\": \"html of a webpage\",\n",
    "    \"python_func\": html_crawl,\n",
    "}"
   ]
  },
  {
   "cell_type": "markdown",
   "metadata": {},
   "source": [
    "## Agent Config"
   ]
  },
  {
   "cell_type": "markdown",
   "metadata": {},
   "source": [
    "After the tools have been configured, initialize them and configure the agent."
   ]
  },
  {
   "cell_type": "code",
   "execution_count": 4,
   "metadata": {},
   "outputs": [
    {
     "name": "stdout",
     "output_type": "stream",
     "text": [
      "2025-03-12 08:46:32,898 - AgentGatewayLogger - INFO - Cortex Search Tool successfully initialized\n",
      "2025-03-12 08:46:32,899 - AgentGatewayLogger - INFO - Cortex Analyst Tool successfully initialized\n",
      "2025-03-12 08:46:32,900 - AgentGatewayLogger - INFO - Python Tool successfully initialized\n",
      "2025-03-12 08:46:32,901 - AgentGatewayLogger - INFO - Cortex gateway successfully initialized\n"
     ]
    }
   ],
   "source": [
    "annual_reports = CortexSearchTool(**search_config)\n",
    "sp500 = CortexAnalystTool(**analyst_config)\n",
    "web_crawler = PythonTool(**python_crawler_config)\n",
    "\n",
    "snowflake_tools = [annual_reports, sp500, web_crawler]\n",
    "agent = Agent(snowflake_connection=snowpark, tools=snowflake_tools, max_retries=3)"
   ]
  },
  {
   "cell_type": "markdown",
   "metadata": {},
   "source": [
    "# Agent Testing"
   ]
  },
  {
   "cell_type": "markdown",
   "metadata": {},
   "source": [
    "The 3 types of questions below are designed to showcase the breadth of tool use patterns possible with the Agent Gateway. \n",
    "\n",
    "- The Structured Data Questions use the Cortex Analyst agent. \n",
    "- The Unstructured Data Questions use either the Cortex Search agent or the Python (News API) agent.\n",
    "- The last section includes a question that requires the use of both types of tools."
   ]
  },
  {
   "cell_type": "markdown",
   "metadata": {},
   "source": [
    "## Structured Data Questions"
   ]
  },
  {
   "cell_type": "code",
   "execution_count": 5,
   "metadata": {},
   "outputs": [
    {
     "data": {
      "text/plain": [
       "{'output': \"{'MARKETCAP': [3019131060224]}\",\n",
       " 'sources': [{'TABLE': 'cube_testing.public.sp500'}]}"
      ]
     },
     "execution_count": 5,
     "metadata": {},
     "output_type": "execute_result"
    }
   ],
   "source": [
    "await sp500(\"what is the market cap of Apple\")"
   ]
  },
  {
   "cell_type": "code",
   "execution_count": 6,
   "metadata": {},
   "outputs": [
    {
     "name": "stdout",
     "output_type": "stream",
     "text": [
      "2025-03-12 08:46:41,038 - AgentGatewayLogger - INFO - running sp500_semantic_model_cortexanalyst task\n"
     ]
    },
    {
     "data": {
      "text/plain": [
       "{'output': 'The market cap of Apple is $3,019,131,060,224 or approximately $3.02 trillion.',\n",
       " 'sources': {'TABLE': ['cube_testing.public.sp500']}}"
      ]
     },
     "execution_count": 6,
     "metadata": {},
     "output_type": "execute_result"
    }
   ],
   "source": [
    "agent(\"What is the market cap of Apple?\")"
   ]
  },
  {
   "cell_type": "code",
   "execution_count": 7,
   "metadata": {},
   "outputs": [
    {
     "name": "stdout",
     "output_type": "stream",
     "text": [
      "2025-03-12 08:46:51,216 - AgentGatewayLogger - INFO - running sp500_semantic_model_cortexanalyst task\n",
      "2025-03-12 08:46:51,220 - AgentGatewayLogger - INFO - running sp500_semantic_model_cortexanalyst task\n"
     ]
    },
    {
     "data": {
      "text/plain": [
       "{'output': 'Apple has a bigger EBITDA than Microsoft.',\n",
       " 'sources': {'TABLE': ['cube_testing.public.sp500']}}"
      ]
     },
     "execution_count": 7,
     "metadata": {},
     "output_type": "execute_result"
    }
   ],
   "source": [
    "agent(\"Which company has the bigger EBITDA, Apple or MSFT?\")"
   ]
  },
  {
   "cell_type": "markdown",
   "metadata": {},
   "source": [
    "# Unstructured Data Questions"
   ]
  },
  {
   "cell_type": "code",
   "execution_count": 9,
   "metadata": {},
   "outputs": [
    {
     "name": "stdout",
     "output_type": "stream",
     "text": [
      "2025-03-12 08:48:25,054 - AgentGatewayLogger - INFO - running sec_search_service_cortexsearch task\n"
     ]
    },
    {
     "data": {
      "text/plain": [
       "{'output': 'As of January 31, 2024, Snowflake had 9,437 total customers.',\n",
       " 'sources': {'RELATIVE_PATH': ['2024_10k_snowflake.pdf',\n",
       "   '2023_10k_snowflake.pdf',\n",
       "   '2022_10k_snowflake.pdf',\n",
       "   '2021_10k_snowflake.pdf']}}"
      ]
     },
     "execution_count": 9,
     "metadata": {},
     "output_type": "execute_result"
    }
   ],
   "source": [
    "agent(\"How many customers does Snowflake have?\")"
   ]
  },
  {
   "cell_type": "code",
   "execution_count": 10,
   "metadata": {},
   "outputs": [
    {
     "name": "stdout",
     "output_type": "stream",
     "text": [
      "2025-03-12 08:48:31,970 - AgentGatewayLogger - INFO - running html_crawl task\n"
     ]
    },
    {
     "data": {
      "text/plain": [
       "{'output': 'Snowflake can be hosted on the following cloud platforms: Amazon Web Services (AWS), Google Cloud Platform (GCP), and Microsoft Azure (Azure).',\n",
       " 'sources': {'Custom Tools': ['html_crawl tool']}}"
      ]
     },
     "execution_count": 10,
     "metadata": {},
     "output_type": "execute_result"
    }
   ],
   "source": [
    "agent(\n",
    "    \"On which platforms can I host Snowflake according to this documentation page https://docs.snowflake.com/en/user-guide/intro-cloud-platforms\"\n",
    ")"
   ]
  },
  {
   "cell_type": "markdown",
   "metadata": {},
   "source": [
    "## Unstructured + Structured Data Questions"
   ]
  },
  {
   "cell_type": "code",
   "execution_count": 14,
   "metadata": {},
   "outputs": [
    {
     "name": "stdout",
     "output_type": "stream",
     "text": [
      "2025-03-12 08:50:23,282 - AgentGatewayLogger - INFO - running sec_search_service_cortexsearch task\n",
      "2025-03-12 08:50:24,649 - AgentGatewayLogger - INFO - running summarize task\n",
      "2025-03-12 08:50:26,372 - AgentGatewayLogger - INFO - running sp500_semantic_model_cortexanalyst task\n"
     ]
    },
    {
     "data": {
      "text/plain": [
       "{'output': \"The market cap of the cloud providers mentioned in Snowflake's annual report are as follows: Microsoft Corporation (MSFT) has a market cap of $3,150,184,448,000, Alphabet Inc. (GOOGL) has a market cap of $2,164,350,779,392, and Amazon.com, Inc. (AMZN) has a market cap of $1,917,936,336,896.\",\n",
       " 'sources': {'RELATIVE_PATH': ['2023_10k_snowflake.pdf',\n",
       "   '2024_10k_snowflake.pdf',\n",
       "   '2022_10k_snowflake.pdf',\n",
       "   '2021_10k_snowflake.pdf',\n",
       "   None],\n",
       "  'TABLE': [None, None, None, None, 'cube_testing.public.sp500']}}"
      ]
     },
     "execution_count": 14,
     "metadata": {},
     "output_type": "execute_result"
    }
   ],
   "source": [
    "agent(\n",
    "    \"What is the market cap of the cloud providers mentioned in Snowflake's annual report?\"\n",
    ")"
   ]
  }
 ],
 "metadata": {
  "kernelspec": {
   "display_name": ".venv",
   "language": "python",
   "name": "python3"
  },
  "language_info": {
   "codemirror_mode": {
    "name": "ipython",
    "version": 3
>>>>>>> c4adc15 (addressing order in sources)
   },
   "nbformat": 4,
   "nbformat_minor": 2
}