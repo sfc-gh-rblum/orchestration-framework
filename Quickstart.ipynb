{
 "cells": [
  {
   "cell_type": "markdown",
   "metadata": {},
   "source": [
    "# Agent Gateway Quickstart"
   ]
  },
  {
   "cell_type": "markdown",
   "metadata": {},
   "source": [
    "Agent Gateway is a multi-agent framework that offers native support for Snowflake tools. \n",
    "\n",
    "The system can be configured to work with 3 types of tools:\n",
    "- Cortex Search Tool: For unstructured data analysis, which requires a standard RAG access pattern.\n",
    "- Cortex Analyst Tool: For supporting structured data analysis, which requires a Text2SQL access pattern.\n",
    "- Python Tool: For supporting custom user operations (using 3rd Party API's), which requires calling arbitrary python.\n",
    "\n",
    "This notebook walks through how to configure and run a system with all 3 types of tools. The demo is designed to illustrate how the agent can answer questions that require a divserse combination of tools (RAG,Text2SQL, Python, or a combination).\n",
    "\n",
    "Note that Agent Gateway does not configure the underlying Cortex Search or Cortex Analyst services for the user. Those services must be configured before initializing the agent."
   ]
  },
  {
   "cell_type": "markdown",
   "metadata": {},
   "source": [
    "# Agent Configuration"
   ]
  },
  {
   "cell_type": "markdown",
   "metadata": {},
   "source": [
    "## Connection Setup"
   ]
  },
  {
   "cell_type": "markdown",
   "metadata": {},
   "source": [
    "Authenticate with Snowpark + set token as environment variable for use by the agents."
   ]
  },
  {
   "cell_type": "code",
   "execution_count": 1,
   "metadata": {},
   "outputs": [],
   "source": [
    "from agent_gateway import Agent\n",
    "from agent_gateway.tools import CortexSearchTool, CortexAnalystTool, PythonTool, SQLTool\n",
    "from snowflake.snowpark import Session\n",
    "import os\n",
    "from dotenv import load_dotenv\n",
    "\n",
    "load_dotenv()\n",
    "\n",
    "connection_parameters = {\n",
    "    \"account\": os.getenv(\"SNOWFLAKE_ACCOUNT\"),\n",
    "    \"user\": os.getenv(\"SNOWFLAKE_USER\"),\n",
    "    \"password\": os.getenv(\"SNOWFLAKE_PASSWORD\"),\n",
    "    \"role\": os.getenv(\"SNOWFLAKE_ROLE\"),\n",
    "    \"warehouse\": os.getenv(\"SNOWFLAKE_WAREHOUSE\"),\n",
    "    \"database\": os.getenv(\"SNOWFLAKE_DATABASE\"),\n",
    "    \"schema\": os.getenv(\"SNOWFLAKE_SCHEMA\"),\n",
    "}\n",
    "\n",
    "snowpark = Session.builder.configs(connection_parameters).create()"
   ]
  },
  {
   "cell_type": "markdown",
   "metadata": {},
   "source": [
    "## Snowflake Tool Configuration"
   ]
  },
  {
   "cell_type": "markdown",
   "metadata": {},
   "source": [
    "The Cortex Search Tool and the Cortex Analyst Tool need to be configured as follows. Note that a connection object is required for each config. In the case below we're using the same connection object for both because the services are both in the same account/database/schema. Users have the option to pass in different connection objects as needed."
   ]
  },
  {
   "cell_type": "code",
   "execution_count": 6,
   "metadata": {},
   "outputs": [],
   "source": [
    "search_config = {\n",
    "    \"service_name\": \"SEC_SEARCH_SERVICE\",\n",
    "    \"service_topic\": \"Snowflake's business,product offerings,and performance.\",\n",
    "    \"data_description\": \"Snowflake annual reports\",\n",
    "    \"retrieval_columns\": [\"CHUNK\", \"RELATIVE_PATH\"],\n",
    "    \"snowflake_connection\": snowpark,\n",
    "    \"k\": 10,\n",
    "}\n",
    "\n",
    "analyst_config = {\n",
    "    \"semantic_model\": \"sp500_semantic_model.yaml\",\n",
    "    \"stage\": \"ANALYST\",\n",
    "    \"service_topic\": \"S&P500 company and stock metrics\",\n",
    "    \"data_description\": \"a table with stock and financial metrics about S&P500 companies \",\n",
    "    \"snowflake_connection\": snowpark,\n",
    "    \"max_results\": 5,\n",
    "}"
   ]
  },
  {
   "cell_type": "markdown",
   "metadata": {},
   "source": [
    "## Python Tool Configuration"
   ]
  },
  {
   "cell_type": "markdown",
   "metadata": {},
   "source": [
    "Configuring a Python Tool for the Agent Gateway requires 1) Python Callable 2) Tool Description (what does the tool do) 3) Output Description (what does the tool output). \n",
    "\n",
    "In the example below we create a NewsTool object that submits a HTTP request to a 3rd Party News API. The python callable is passed into the Python Tool as `news_api_func`.To use the tool below get your free token by signing up for an account at thenewsapi.com or just create your own python function and pass it into the PythonTool."
   ]
  },
  {
   "cell_type": "code",
   "execution_count": 7,
   "metadata": {},
   "outputs": [],
   "source": [
    "import requests\n",
    "\n",
    "\n",
    "def html_crawl(url):\n",
    "    response = requests.get(url)\n",
    "    return response.text\n",
    "\n",
    "\n",
    "python_crawler_config = {\n",
    "    \"tool_description\": \"reads the html from a given URL or website\",\n",
    "    \"output_description\": \"html of a webpage\",\n",
    "    \"python_func\": html_crawl,\n",
    "}"
   ]
  },
  {
   "cell_type": "markdown",
   "metadata": {},
   "source": [
    "# SQL Tool"
   ]
  },
  {
   "cell_type": "markdown",
   "metadata": {},
   "source": [
    "The SQL Tool allows users to pre-define sql metrics and custom pipelines that the agent will be able to utilize to answer specialized questions."
   ]
  },
  {
   "cell_type": "code",
   "execution_count": 8,
   "metadata": {},
   "outputs": [],
   "source": [
    "sql_query = \"\"\"WITH CompanyMetrics AS (\n",
    "    SELECT \n",
    "        LONGNAME,\n",
    "        SECTOR,\n",
    "        INDUSTRY,\n",
    "        CURRENTPRICE,\n",
    "        MARKETCAP,\n",
    "        EBITDA,\n",
    "        CASE \n",
    "            WHEN MARKETCAP > 0 AND EBITDA IS NOT NULL THEN (EBITDA * 100.0) / MARKETCAP\n",
    "            ELSE NULL\n",
    "        END AS EBITDA_Margin\n",
    "    FROM CUBE_TESTING.PUBLIC.SP500\n",
    "),\n",
    "AverageMetrics AS (\n",
    "    SELECT \n",
    "        AVG(EBITDA_Margin) AS Average_EBITDA_Margin\n",
    "    FROM CompanyMetrics\n",
    "),\n",
    "NormalizedMetrics AS (\n",
    "    SELECT \n",
    "        cm.LONGNAME,\n",
    "        cm.SECTOR,\n",
    "        cm.INDUSTRY,\n",
    "        cm.CURRENTPRICE,\n",
    "        cm.MARKETCAP,\n",
    "        cm.EBITDA,\n",
    "        cm.EBITDA_Margin,\n",
    "        CASE \n",
    "            WHEN am.Average_EBITDA_Margin > 0 THEN cm.EBITDA_Margin / am.Average_EBITDA_Margin\n",
    "            ELSE NULL\n",
    "        END AS Normalized_EBITDA_Margin\n",
    "    FROM CompanyMetrics cm\n",
    "    CROSS JOIN AverageMetrics am\n",
    ")\n",
    "SELECT \n",
    "    LONGNAME,\n",
    "    SECTOR,\n",
    "    INDUSTRY,\n",
    "    CURRENTPRICE,\n",
    "    MARKETCAP,\n",
    "    EBITDA,\n",
    "    EBITDA_Margin,\n",
    "    Normalized_EBITDA_Margin\n",
    "FROM NormalizedMetrics;\"\"\"\n",
    "\n",
    "sql_tool_config = {\n",
    "    \"name\": \"margin_eval\",\n",
    "    \"connection\": snowpark,\n",
    "    \"sql_query\": sql_query,\n",
    "    \"tool_description\": \"Calculates the normalized EBITDA Margin as a % relative to the SP500 average\",\n",
    "    \"output_description\": \"EBITDA Margin %\",\n",
    "}"
   ]
  },
  {
   "cell_type": "markdown",
   "metadata": {},
   "source": [
    "## Agent Config"
   ]
  },
  {
   "cell_type": "markdown",
   "metadata": {},
   "source": [
    "After the tools have been configured, initialize them and configure the agent."
   ]
  },
  {
   "cell_type": "code",
   "execution_count": 9,
   "metadata": {},
   "outputs": [
    {
     "name": "stdout",
     "output_type": "stream",
     "text": [
      "2025-03-25 13:48:11,284 - AgentGatewayLogger - INFO - Cortex Search Tool successfully initialized\n",
      "2025-03-25 13:48:11,541 - AgentGatewayLogger - INFO - Cortex Analyst Tool successfully initialized\n",
      "2025-03-25 13:48:11,544 - AgentGatewayLogger - INFO - Python Tool successfully initialized\n",
      "2025-03-25 13:48:11,546 - AgentGatewayLogger - INFO - SQL Tool successfully initialized\n",
      "2025-03-25 13:48:12,057 - AgentGatewayLogger - INFO - Cortex gateway successfully initialized\n"
     ]
    }
   ],
   "source": [
    "annual_reports = CortexSearchTool(**search_config)\n",
    "sp500 = CortexAnalystTool(**analyst_config)\n",
    "web_crawler = PythonTool(**python_crawler_config)\n",
    "margin_eval = SQLTool(**sql_tool_config)\n",
    "\n",
    "\n",
    "snowflake_tools = [annual_reports, sp500, web_crawler, margin_eval]\n",
    "agent = Agent(snowflake_connection=snowpark, tools=snowflake_tools, max_retries=3)"
   ]
  },
  {
   "cell_type": "markdown",
   "metadata": {},
   "source": [
    "# Agent Testing"
   ]
  },
  {
   "cell_type": "markdown",
   "metadata": {},
   "source": [
    "The 3 types of questions below are designed to showcase the breadth of tool use patterns possible with the Agent Gateway. \n",
    "\n",
    "- The Structured Data Questions use the Cortex Analyst agent. \n",
    "- The Unstructured Data Questions use either the Cortex Search agent or the Python (News API) agent.\n",
    "- The last section includes a question that requires the use of both types of tools."
   ]
  },
  {
   "cell_type": "markdown",
   "metadata": {},
   "source": [
    "## Structured Data Questions"
   ]
  },
  {
   "cell_type": "code",
   "execution_count": 5,
   "metadata": {},
   "outputs": [
    {
     "name": "stdout",
     "output_type": "stream",
     "text": [
      "2025-03-13 17:24:22,280 - AgentGatewayLogger - INFO - running sp500_semantic_model_cortexanalyst task\n"
     ]
    },
    {
     "data": {
      "text/plain": [
       "{'output': 'The market cap of Apple is $3,019,131,060,224 or approximately $3.02 trillion.',\n",
       " 'sources': [{'tool_type': 'cortex_analyst',\n",
       "   'tool_name': 'sp500_semantic_model_cortexanalyst',\n",
       "   'metadata': [{'Table': 'cube_testing.public.sp500'}]}]}"
      ]
     },
     "execution_count": 5,
     "metadata": {},
     "output_type": "execute_result"
    }
   ],
   "source": [
    "agent(\"What is the market cap of Apple?\")"
   ]
  },
  {
   "cell_type": "code",
   "execution_count": 16,
   "metadata": {},
   "outputs": [
    {
     "name": "stdout",
     "output_type": "stream",
     "text": [
      "2025-03-25 10:53:27,340 - AgentGatewayLogger - INFO - running margin_eval task\n"
     ]
    },
    {
     "data": {
      "text/plain": [
       "{'output': 'The normalized EBITDA margin for Microsoft Corporation is approximately 0.3999 or 39.99%.',\n",
       " 'sources': [{'tool_type': 'SQL',\n",
       "   'tool_name': 'margin_eval',\n",
       "   'metadata': [None]}]}"
      ]
     },
     "execution_count": 16,
     "metadata": {},
     "output_type": "execute_result"
    }
   ],
   "source": [
    "agent(\"What is MSFT's normalized EBITDA margin?\")"
   ]
  },
  {
   "cell_type": "code",
   "execution_count": 6,
   "metadata": {},
   "outputs": [
    {
     "name": "stdout",
     "output_type": "stream",
     "text": [
      "2025-03-13 17:24:33,011 - AgentGatewayLogger - INFO - running sp500_semantic_model_cortexanalyst task\n",
      "2025-03-13 17:24:33,012 - AgentGatewayLogger - INFO - running sp500_semantic_model_cortexanalyst task\n"
     ]
    },
    {
     "data": {
      "text/plain": [
       "{'output': \"Apple has a bigger EBITDA of $129,629,003,776 compared to Microsoft's $125,981,999,104.\",\n",
       " 'sources': [{'tool_type': 'cortex_analyst',\n",
       "   'tool_name': 'sp500_semantic_model_cortexanalyst',\n",
       "   'metadata': [{'Table': 'cube_testing.public.sp500'}]}]}"
      ]
     },
     "execution_count": 6,
     "metadata": {},
     "output_type": "execute_result"
    }
   ],
   "source": [
    "agent(\"Which company has the bigger EBITDA, Apple or MSFT?\")"
   ]
  },
  {
   "cell_type": "markdown",
   "metadata": {},
   "source": [
    "# Unstructured Data Questions"
   ]
  },
  {
   "cell_type": "code",
   "execution_count": 7,
   "metadata": {},
   "outputs": [
    {
     "name": "stdout",
     "output_type": "stream",
     "text": [
      "2025-03-13 17:24:49,879 - AgentGatewayLogger - INFO - running sec_search_service_cortexsearch task\n"
     ]
    },
    {
     "data": {
      "text/plain": [
       "{'output': 'As of January 31, 2024, Snowflake had 9,437 total customers.',\n",
       " 'sources': [{'tool_type': 'cortex_search',\n",
       "   'tool_name': 'sec_search_service_cortexsearch',\n",
       "   'metadata': [{'RELATIVE_PATH': '2024_10k_snowflake.pdf'},\n",
       "    {'RELATIVE_PATH': '2023_10k_snowflake.pdf'},\n",
       "    {'RELATIVE_PATH': '2022_10k_snowflake.pdf'},\n",
       "    {'RELATIVE_PATH': '2021_10k_snowflake.pdf'}]}]}"
      ]
     },
     "execution_count": 7,
     "metadata": {},
     "output_type": "execute_result"
    }
   ],
   "source": [
    "agent(\"How many customers does Snowflake have?\")"
   ]
  },
  {
   "cell_type": "code",
   "execution_count": 8,
   "metadata": {},
   "outputs": [
    {
     "name": "stdout",
     "output_type": "stream",
     "text": [
      "2025-03-13 17:24:57,337 - AgentGatewayLogger - INFO - running html_crawl task\n"
     ]
    },
    {
     "data": {
      "text/plain": [
       "{'output': 'Snowflake can be hosted on the following cloud platforms: Amazon Web Services (AWS), Google Cloud Platform (GCP), and Microsoft Azure (Azure).',\n",
       " 'sources': [{'tool_type': 'custom_tool',\n",
       "   'tool_name': 'html_crawl',\n",
       "   'metadata': [None]}]}"
      ]
     },
     "execution_count": 8,
     "metadata": {},
     "output_type": "execute_result"
    }
   ],
   "source": [
    "agent(\n",
    "    \"On which platforms can I host Snowflake according to this documentation page https://docs.snowflake.com/en/user-guide/intro-cloud-platforms\"\n",
    ")"
   ]
  },
  {
   "cell_type": "markdown",
   "metadata": {},
   "source": [
    "## Unstructured + Structured Data Questions"
   ]
  },
  {
   "cell_type": "code",
   "execution_count": 9,
   "metadata": {},
   "outputs": [
    {
     "name": "stdout",
     "output_type": "stream",
     "text": [
      "2025-03-13 17:25:14,329 - AgentGatewayLogger - INFO - running sec_search_service_cortexsearch task\n",
      "2025-03-13 17:25:15,815 - AgentGatewayLogger - INFO - running summarize task\n",
      "2025-03-13 17:25:17,261 - AgentGatewayLogger - INFO - running sp500_semantic_model_cortexanalyst task\n",
      "2025-03-13 17:25:21,736 - AgentGatewayLogger - ERROR - Your request is unclear. Consider rephrasing your request to one of the following suggestions: ['What is the market cap of Amazon.com, Inc., Microsoft Corporation, and Alphabet Inc.?', 'What is the market cap of the companies that own Amazon Web Services (AWS), Microsoft Azure, and Google Cloud Platform (GCP)?']\n",
      "2025-03-13 17:25:30,092 - AgentGatewayLogger - INFO - running sp500_semantic_model_cortexanalyst task\n",
      "2025-03-13 17:25:33,332 - AgentGatewayLogger - ERROR - Unable to generate a valid SQL Query. The question is asking for the market cap of companies that own Amazon Web Services (AWS), but the semantic data model does not provide information about the ownership of AWS or any other subsidiary relationships. Therefore, it is unclear how to determine which companies own AWS based on the given schema.\n",
      "2025-03-13 17:25:41,677 - AgentGatewayLogger - INFO - running sp500_semantic_model_cortexanalyst task\n"
     ]
    },
    {
     "data": {
      "text/plain": [
       "{'output': 'The market cap of Amazon.com, Inc. is $1,917,936,336,896, the market cap of Microsoft Corporation is $3,150,184,448,000, and the market cap of Alphabet Inc. is $2,164,350,779,392.',\n",
       " 'sources': [{'tool_type': 'cortex_search',\n",
       "   'tool_name': 'sec_search_service_cortexsearch',\n",
       "   'metadata': [{'RELATIVE_PATH': '2023_10k_snowflake.pdf'},\n",
       "    {'RELATIVE_PATH': '2024_10k_snowflake.pdf'},\n",
       "    {'RELATIVE_PATH': '2022_10k_snowflake.pdf'},\n",
       "    {'RELATIVE_PATH': '2021_10k_snowflake.pdf'}]},\n",
       "  {'tool_type': 'cortex_analyst',\n",
       "   'tool_name': 'sp500_semantic_model_cortexanalyst',\n",
       "   'metadata': [{'Table': 'cube_testing.public.sp500'}]}]}"
      ]
     },
     "execution_count": 9,
     "metadata": {},
     "output_type": "execute_result"
    }
   ],
   "source": [
    "agent(\n",
    "    \"What is the market cap of each of the cloud providers mentioned in Snowflake's annual report?\"\n",
    ")"
   ]
  },
  {
   "cell_type": "markdown",
   "metadata": {},
   "source": [
    "# Agent Observability"
   ]
  },
  {
   "cell_type": "markdown",
   "metadata": {},
   "source": [
    "install framework with requisite dependencies with `pip install orchestration-framework[trulens]` and initialize as follows:"
   ]
  },
  {
   "cell_type": "code",
   "execution_count": null,
   "metadata": {},
   "outputs": [],
   "source": [
    "from agent_gateway import TruAgent\n",
    "from trulens.connectors.snowflake import SnowflakeConnector\n",
    "\n",
    "tru_conn = SnowflakeConnector(**connection_parameters)\n",
    "\n",
    "agent = TruAgent(\n",
    "    app_name=\"observable\",\n",
    "    app_version=\"v0\",\n",
    "    trulens_snowflake_connection=tru_conn,\n",
    "    snowflake_connection=snowpark,\n",
    "    tools=snowflake_tools,\n",
    "    max_retries=3,\n",
    ")"
   ]
  },
  {
   "cell_type": "markdown",
   "metadata": {},
   "source": [
    "### Run the dashboard to view traces"
   ]
  },
  {
   "cell_type": "code",
   "execution_count": null,
   "metadata": {},
   "outputs": [],
   "source": [
    "from trulens.core import TruSession\n",
    "from trulens.dashboard import run_dashboard\n",
    "\n",
    "session = TruSession(connector=tru_conn)\n",
    "\n",
    "run_dashboard(session, port=8084)"
   ]
  }
 ],
 "metadata": {
  "kernelspec": {
   "display_name": ".venv",
   "language": "python",
   "name": "python3"
  },
  "language_info": {
   "codemirror_mode": {
    "name": "ipython",
    "version": 3
   },
   "file_extension": ".py",
   "mimetype": "text/x-python",
   "name": "python",
   "nbconvert_exporter": "python",
   "pygments_lexer": "ipython3",
   "version": "3.11.6"
  }
 },
 "nbformat": 4,
 "nbformat_minor": 2
}
